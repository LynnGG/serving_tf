{
 "cells": [
  {
   "cell_type": "code",
   "execution_count": 1,
   "id": "4def6b41",
   "metadata": {},
   "outputs": [],
   "source": [
    "import requests\n",
    "import json\n",
    "import cv2\n",
    "import tensorflow as tf\n",
    "import numpy as np\n",
    "import pandas as pd"
   ]
  },
  {
   "cell_type": "code",
   "execution_count": 2,
   "id": "099c774d",
   "metadata": {},
   "outputs": [],
   "source": [
    "def loadIMG(image):\n",
    "    image = cv2.imread(image)\n",
    "    gray = cv2.cvtColor(image, cv2.COLOR_BGR2GRAY)\n",
    "    resize = cv2.resize(gray,(28,28),interpolation  = cv2.INTER_AREA)\n",
    "    newImg = tf.keras.utils.normalize(resize,axis=1)\n",
    "    return np.array(newImg).reshape(-1,28,28,1)"
   ]
  },
  {
   "cell_type": "code",
   "execution_count": 7,
   "id": "0e4712f9",
   "metadata": {},
   "outputs": [],
   "source": [
    "data_img = loadIMG('test_number.png')\n",
    "\n",
    "data = {\"instances\": data_img.tolist()}\n"
   ]
  },
  {
   "cell_type": "code",
   "execution_count": 8,
   "id": "51b2d538",
   "metadata": {},
   "outputs": [],
   "source": [
    "data_js = json.dumps(data)\n"
   ]
  },
  {
   "cell_type": "code",
   "execution_count": 12,
   "id": "9ce8662d",
   "metadata": {},
   "outputs": [],
   "source": [
    "def oneHotEncoding(data_js):\n",
    "    url = 'http://localhost:8501/v1/models/saved_model/versions/1:predict'\n",
    "    headers={'content-type':'application/json'}\n",
    "    json_req = requests.post(url,data=data_js,headers= headers)\n",
    "    pre = json_req.json()\n",
    "    pre =pre['predictions']\n",
    "    data={}\n",
    "    for x in range(len(pre[0])):\n",
    "        data[x] = float(\"{:.8f}\".format(float(pre[0][x])))\n",
    "    df = pd.DataFrame([data])\n",
    "    print('Label Max : ',np.argmax(pre))\n",
    "    return df"
   ]
  },
  {
   "cell_type": "code",
   "execution_count": 13,
   "id": "a9079bcd",
   "metadata": {},
   "outputs": [
    {
     "name": "stdout",
     "output_type": "stream",
     "text": [
      "Label Max :  4\n"
     ]
    },
    {
     "data": {
      "text/html": [
       "<div>\n",
       "<style scoped>\n",
       "    .dataframe tbody tr th:only-of-type {\n",
       "        vertical-align: middle;\n",
       "    }\n",
       "\n",
       "    .dataframe tbody tr th {\n",
       "        vertical-align: top;\n",
       "    }\n",
       "\n",
       "    .dataframe thead th {\n",
       "        text-align: right;\n",
       "    }\n",
       "</style>\n",
       "<table border=\"1\" class=\"dataframe\">\n",
       "  <thead>\n",
       "    <tr style=\"text-align: right;\">\n",
       "      <th></th>\n",
       "      <th>0</th>\n",
       "      <th>1</th>\n",
       "      <th>2</th>\n",
       "      <th>3</th>\n",
       "      <th>4</th>\n",
       "      <th>5</th>\n",
       "      <th>6</th>\n",
       "      <th>7</th>\n",
       "      <th>8</th>\n",
       "      <th>9</th>\n",
       "    </tr>\n",
       "  </thead>\n",
       "  <tbody>\n",
       "    <tr>\n",
       "      <th>0</th>\n",
       "      <td>0.000647</td>\n",
       "      <td>0.044291</td>\n",
       "      <td>0.000019</td>\n",
       "      <td>1.000000e-08</td>\n",
       "      <td>0.948443</td>\n",
       "      <td>5.500000e-07</td>\n",
       "      <td>0.000011</td>\n",
       "      <td>0.004113</td>\n",
       "      <td>0.002181</td>\n",
       "      <td>0.000294</td>\n",
       "    </tr>\n",
       "  </tbody>\n",
       "</table>\n",
       "</div>"
      ],
      "text/plain": [
       "          0         1         2             3         4             5  \\\n",
       "0  0.000647  0.044291  0.000019  1.000000e-08  0.948443  5.500000e-07   \n",
       "\n",
       "          6         7         8         9  \n",
       "0  0.000011  0.004113  0.002181  0.000294  "
      ]
     },
     "execution_count": 13,
     "metadata": {},
     "output_type": "execute_result"
    }
   ],
   "source": [
    "df =oneHotEncoding(data_js)\n",
    "df"
   ]
  },
  {
   "cell_type": "code",
   "execution_count": null,
   "id": "1d874a59",
   "metadata": {},
   "outputs": [],
   "source": []
  },
  {
   "cell_type": "code",
   "execution_count": null,
   "id": "9321f6ae",
   "metadata": {},
   "outputs": [],
   "source": []
  },
  {
   "cell_type": "code",
   "execution_count": null,
   "id": "e1209a0f",
   "metadata": {},
   "outputs": [],
   "source": []
  }
 ],
 "metadata": {
  "kernelspec": {
   "display_name": "Python 3 (ipykernel)",
   "language": "python",
   "name": "python3"
  },
  "language_info": {
   "codemirror_mode": {
    "name": "ipython",
    "version": 3
   },
   "file_extension": ".py",
   "mimetype": "text/x-python",
   "name": "python",
   "nbconvert_exporter": "python",
   "pygments_lexer": "ipython3",
   "version": "3.8.11"
  }
 },
 "nbformat": 4,
 "nbformat_minor": 5
}
